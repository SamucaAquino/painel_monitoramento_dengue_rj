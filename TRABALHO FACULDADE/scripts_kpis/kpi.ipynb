{
 "cells": [
  {
   "cell_type": "markdown",
   "id": "e0321128",
   "metadata": {},
   "source": [
    "## 🦠 **Indicadores Epidemiológicos**\n",
    "### 1. **Total de casos por município**\n",
    "- Soma total de casos em cada cidade.\n",
    "\n",
    "### 2. **Incidência acumulada por 100 mil habitantes**\n",
    "- Fórmula: `(casos / população) * 100000`\n",
    "- Mostra a taxa de infecção proporcional — muito útil para comparar cidades de tamanhos diferentes.\n",
    "\n",
    "### 3. **Casos por semana epidemiológica (SE)**\n",
    "- Ajuda a detectar surtos, aumentos repentinos e tendências.\n",
    "\n",
    "### 4. **Classificação de risco (nível) por município**\n",
    "- Quantidade de cidades em cada categoria de risco: *baixo*, *médio* ou *alto*.\n",
    "\n",
    "### 5. **Variação percentual de casos semana a semana**\n",
    "- Para medir o crescimento ou diminuição da dengue ao longo do tempo.\n",
    "\n",
    "---\n",
    "\n",
    "## 🌡️ **Indicadores Climáticos**\n",
    "> Muito úteis porque o clima influencia diretamente na proliferação do mosquito.\n",
    "\n",
    "### 6. **Média de temperatura mínima, média e máxima por município**\n",
    "- Pode ser cruzado com o número de casos para investigar correlações.\n",
    "\n",
    "### 7. **Média de umidade mínima, média e máxima por município**\n",
    "- Umidade elevada favorece o mosquito, então é outro ponto a ser analisado.\n",
    "\n",
    "---\n",
    "\n",
    "## 📊 **Indicadores Combinados (Clima + Casos)**\n",
    "### 8. **Correlação entre temperatura média e casos**\n",
    "- Use `df.corr()` ou métodos estatísticos para descobrir se existe relação.\n",
    "\n",
    "### 9. **Correlação entre umidade e casos**\n",
    "\n",
    "### 10. **Semana epidemiológica com maior número de casos por cidade**\n",
    "- Mostra o pico da doença por local.\n",
    "\n",
    "---\n",
    "\n",
    "## 🌍 **Indicadores Geográficos (com uso de GeoPandas)**\n",
    "### 11. **Mapa de calor de incidência**\n",
    "- Usando o `gdf` com `base_compilada`, dá pra fazer um mapa com `folium` ou `geopandas.plot()`.\n",
    "\n",
    "### 12. **Top 10 municípios com maior incidência**\n",
    "- Ajuda a priorizar ações em campo.\n",
    "\n",
    "---\n",
    "\n",
    "## 🛠️ **Outros KPIs Estratégicos**\n",
    "### 13. **Número de municípios com risco alto**\n",
    "- Pode virar uma métrica de alerta para o governo/órgãos de saúde.\n",
    "\n",
    "### 14. **Dias ou semanas consecutivas em risco alto**\n",
    "- Um indicador de persistência do surto.\n",
    "\n",
    "### 15. **Razão entre casos e população (densidade de casos)**\n",
    "- Complementa o KPI de incidência."
   ]
  },
  {
   "cell_type": "code",
   "execution_count": 1,
   "id": "7fc93eba",
   "metadata": {},
   "outputs": [],
   "source": [
    "import pandas as pd\n",
    "import numpy as np\n",
    "\n",
    "base = pd.read_csv('C:/Users/ree11390/OneDrive - M DIAS BRANCO S.A. INDUSTRIA E COMERCIO DE ALIMENTOS/Área de Trabalho/TRABALHO FACULDADE/bases/base_compilada.csv', sep=\";\")"
   ]
  },
  {
   "cell_type": "markdown",
   "id": "e1031485",
   "metadata": {},
   "source": [
    "**INDICADORES EPIDEMIOLÓGICOS**"
   ]
  },
  {
   "cell_type": "code",
   "execution_count": 2,
   "id": "9cd4ce72",
   "metadata": {},
   "outputs": [],
   "source": [
    "# 1 - TOTAL DE CASOS POR MUNÍCIPIO\n",
    "kpi_casos_municipio = base.groupby('municipios')['casos'].sum().reset_index()\n",
    "kpi_casos_municipio.columns = ['municipios', 'total_casos']\n",
    "#kpi_casos_municipio = kpi_casos_municipio.sort_values(by='total_casos', ascending=False).reset_index(drop=True)\n",
    "\n",
    "# 2 - INCIDÊNCIA ACUMLADA POR 100 MIL HABITANTES\n",
    "kpi_100_mil_habitantes = base.groupby('municipios')['pop'].sum().reset_index()\n",
    "kpi_100_mil_habitantes['incidencia_100k'] = (kpi_casos_municipio['total_casos']/ kpi_100_mil_habitantes['pop']) * 100_00\n",
    "\n",
    "base_kpi_atemporal = pd.merge(kpi_casos_municipio, kpi_100_mil_habitantes, on='municipios')\n",
    "\n",
    "# 3 - CASOS POR SEMANA EPIDEMIOLÓGICA\n",
    "kpi_casos_semana = base.groupby(['SE', 'municipios'])['casos'].sum().reset_index()\n",
    "kpi_casos_semana.columns = ['semana_epidemiologica', 'municipios', 'total_casos'] \n",
    "\n",
    "base_kpi_temporal = kpi_casos_semana\n",
    "\n",
    "# 4 - CLASSIFICAÇÃO DE RISCO (NÍVEL) POR MUNCÍPIO\n",
    "base_ordenada = base.sort_values(by='data_iniSE', ascending=False)\n",
    "nivel_atual = base_ordenada.drop_duplicates(subset=['municipios'])[['municipios', 'nivel']]\n",
    "distribuicao_risco = nivel_atual['nivel'].value_counts().reset_index()\n",
    "distribuicao_risco.columns = ['nivel_risco', 'quantidade_cidades']\n",
    "kpi_classificacao_risco_municipio = distribuicao_risco\n",
    "\n",
    "# 5 - VARIAÇÃO PERCETUAL DE CASOS SEMANA A SEMANA\n",
    "casos_semana = base.groupby('data_iniSE')['casos'].sum().reset_index()\n",
    "kpi_variacao_percent_semana_semana = casos_semana.sort_values('data_iniSE')\n",
    "kpi_variacao_percent_semana_semana['variacao_percentual'] = casos_semana ['casos'].pct_change() * 100\n",
    "kpi_variacao_percent_semana_semana['variacao_percentual'] = kpi_variacao_percent_semana_semana['variacao_percentual'].round(2)"
   ]
  },
  {
   "cell_type": "markdown",
   "id": "544f9a94",
   "metadata": {},
   "source": [
    "**INDICADORES CLIMÁTICOS**"
   ]
  },
  {
   "cell_type": "code",
   "execution_count": 3,
   "id": "e775b83b",
   "metadata": {},
   "outputs": [],
   "source": [
    "# 6 - MÉDIA DE TEMPERATURA MÍNIMA, MÉDIA E MÁXIMA POR MUNICÍPIO\n",
    "kpi_media_temperatura_municipio = base.groupby('municipios')[['tempmin', 'tempmed', 'tempmax']].mean().reset_index()\n",
    "kpi_media_temperatura_municipio.columns = ['municipios', 'media_temp_min', 'media_temp_media', 'media_temp_max']\n",
    "\n",
    "base_kpi_atemporal = base_kpi_atemporal.merge(kpi_media_temperatura_municipio, on='municipios', how='left')\n",
    "\n",
    "# 7 - MÉDIA DE UMIDADE MÍNIMA, MÉDIA E MÁXIMA POR MUNICÍPIO\n",
    "kpi_media_umidade_municipio = base.groupby('municipios')[['umidmin', 'umidmed', 'umidmax']].mean().reset_index()\n",
    "kpi_media_umidade_municipio.columns = ['municipios', 'media_umidade_mini', 'media_umidade_media', 'media_umidade_max']\n",
    "\n",
    "base_kpi_atemporal = base_kpi_atemporal.merge(kpi_media_umidade_municipio, on='municipios', how='left')"
   ]
  },
  {
   "cell_type": "markdown",
   "id": "a014ba14",
   "metadata": {},
   "source": [
    "**INDICADORES COMBINADOS (CLIMA + CASOS)**"
   ]
  },
  {
   "cell_type": "code",
   "execution_count": 4,
   "id": "b7f644fd",
   "metadata": {},
   "outputs": [
    {
     "name": "stderr",
     "output_type": "stream",
     "text": [
      "C:\\Users\\ree11390\\AppData\\Local\\Temp\\ipykernel_15896\\227862188.py:5: DeprecationWarning: DataFrameGroupBy.apply operated on the grouping columns. This behavior is deprecated, and in a future version of pandas the grouping columns will be excluded from the operation. Either pass `include_groups=False` to exclude the groupings or explicitly select the grouping columns after groupby to silence this warning.\n",
      "  kpi_correlacao_temp_media_casos = base.groupby('municipios').apply(calcular_correlacao_temp).reset_index()\n",
      "C:\\Users\\ree11390\\AppData\\Local\\Temp\\ipykernel_15896\\227862188.py:14: DeprecationWarning: DataFrameGroupBy.apply operated on the grouping columns. This behavior is deprecated, and in a future version of pandas the grouping columns will be excluded from the operation. Either pass `include_groups=False` to exclude the groupings or explicitly select the grouping columns after groupby to silence this warning.\n",
      "  kpi_correlacao_umid_media_casos = base.groupby('municipios').apply(calcular_correlacao_umd).reset_index()\n"
     ]
    }
   ],
   "source": [
    "# 8 - CORRELAÇÃO ENTRE TEMPERATURA MÉDIA E CASOS\n",
    "def calcular_correlacao_temp(grupo):\n",
    "    return grupo['tempmed'].corr(grupo['casos'])\n",
    "\n",
    "kpi_correlacao_temp_media_casos = base.groupby('municipios').apply(calcular_correlacao_temp).reset_index()\n",
    "kpi_correlacao_temp_media_casos.columns = ['municipios', 'corrrelacao_tempmed_casos']\n",
    "\n",
    "base_kpi_atemporal = base_kpi_atemporal.merge(kpi_correlacao_temp_media_casos, on='municipios', how='left')\n",
    "\n",
    "# 9 - CORRELAÇÃO ENTRE UMIDADE E CASOS\n",
    "def calcular_correlacao_umd(grupo):\n",
    "    return grupo['umidmed'].corr(grupo['casos'])\n",
    "\n",
    "kpi_correlacao_umid_media_casos = base.groupby('municipios').apply(calcular_correlacao_umd).reset_index()\n",
    "kpi_correlacao_umid_media_casos.columns = ['municipios', 'kpi_correlacao_umid_media_casos']\n",
    "\n",
    "base_kpi_atemporal = base_kpi_atemporal.merge(kpi_correlacao_umid_media_casos, on='municipios', how='left')\n",
    "\n",
    "# 10 - SEMANA EPIDEMIOLÓGICA COM MAIOR NÚMERO DE CASOS POR CIDADE\n",
    "kpi_semana_maior_num_casos_cidade = base.loc[\n",
    "    base.groupby('municipios')['casos'].idxmax(),\n",
    "    ['municipios', 'SE', 'casos', 'data_iniSE']\n",
    "].rename(columns={\n",
    "    'SE': 'semana_pico',\n",
    "    'casos': 'casos_pico',\n",
    "    'data_iniSE': 'data_inicio_pico'\n",
    "})\n",
    "\n",
    "base_kpi_atemporal = base_kpi_atemporal.merge(kpi_semana_maior_num_casos_cidade, on='municipios', how='left')    "
   ]
  },
  {
   "cell_type": "markdown",
   "id": "05c72b90",
   "metadata": {},
   "source": [
    "**OUTROS KPIs ESTRATÉGICOS**"
   ]
  },
  {
   "cell_type": "code",
   "execution_count": 5,
   "id": "da91d8a1",
   "metadata": {},
   "outputs": [],
   "source": [
    "# 11 - NÚMERO DE MUNICÍPIOS COM RISCO ALTO (QUALQUER SEMANA)\n",
    "kpi_municipios_risco_alto_qqsemana = base[base['nivel'] == 4]['municipios'].unique()\n",
    "\n",
    "base_kpi_atemporal['teve_risco_alto'] = base_kpi_atemporal['municipios'].isin(kpi_municipios_risco_alto_qqsemana)\n",
    "\n",
    "# 12 - NÚMERO DE MUNICÍPIOS COM RISCO ALTO (ÚLTIMA SEMANA)\n",
    "ultima_semana = base['SE'].max()\n",
    "kpi_municipios_risco_alto_ultisemana = base[\n",
    "    (base['SE'] == ultima_semana) &\n",
    "    (base['nivel'] == 4)\n",
    "]['municipios'].unique()\n",
    "\n",
    "base_kpi_atemporal['teve_risco_alto_ultima_semana'] = base_kpi_atemporal['municipios'].isin(kpi_municipios_risco_alto_ultisemana)\n",
    "\n",
    "# 13 - SEMANAS CONSECUTIVAS EM RISCO ALTO\n",
    "base_ordenada = base.sort_values(by=['municipios', 'SE'])\n",
    "base_ordenada['risco_alto'] = (base_ordenada['nivel'] == 4).astype(int)\n",
    "base_ordenada['quebra'] = (\n",
    "    (base_ordenada['risco_alto'] != base_ordenada.groupby('municipios')['risco_alto'].shift()) |\n",
    "    ((base_ordenada['SE'] != base_ordenada.groupby('municipios')['SE'].shift() + 1) &\n",
    "     (base_ordenada['risco_alto'] == 1))\n",
    ").cumsum()\n",
    "\n",
    "sequencias = base_ordenada[base_ordenada['risco_alto'] == 1].copy()\n",
    "sequencias['tamanho_sequencia'] = sequencias.groupby(['municipios', 'quebra'])['risco_alto'].transform('count')\n",
    "\n",
    "kpi_persistencia = sequencias.groupby('municipios')['tamanho_sequencia'].max().reset_index()\n",
    "kpi_persistencia.columns = ['municipios', 'max_semanas_consec_risco_alto']\n",
    "\n",
    "base_kpi_atemporal = base_kpi_atemporal.merge(kpi_persistencia, on='municipios', how='left')\n",
    "base_kpi_atemporal['max_semanas_consec_risco_alto'] = base_kpi_atemporal['max_semanas_consec_risco_alto'].fillna(0).astype(int)\n",
    "\n",
    "# 14 - RAZÃO ENTRE CASOS E POPULAÇÃO (DENSIDADE DE CASOS)\n",
    "base_kpi_atemporal['densidade_casos'] = (base_kpi_atemporal['total_casos'] / base_kpi_atemporal['pop'] *100).round(2)"
   ]
  },
  {
   "cell_type": "code",
   "execution_count": 8,
   "id": "22f0f71e",
   "metadata": {},
   "outputs": [],
   "source": [
    "base_kpi_atemporal.to_json(\"C:/Users/ree11390/OneDrive - M DIAS BRANCO S.A. INDUSTRIA E COMERCIO DE ALIMENTOS/Área de Trabalho/TRABALHO FACULDADE/bases/kpis_atemporais.json\", \n",
    "                           orient='records', \n",
    "                           force_ascii=False\n",
    ")\n",
    "\n",
    "base_kpi_temporal.to_json(\"C:/Users/ree11390/OneDrive - M DIAS BRANCO S.A. INDUSTRIA E COMERCIO DE ALIMENTOS/Área de Trabalho/TRABALHO FACULDADE/bases/kpis_temporais.json\", \n",
    "                          orient='records', \n",
    "                          force_ascii=False\n",
    ")\n",
    "\n",
    "kpi_classificacao_risco_municipio.to_json(\"C:/Users/ree11390/OneDrive - M DIAS BRANCO S.A. INDUSTRIA E COMERCIO DE ALIMENTOS/Área de Trabalho/TRABALHO FACULDADE/bases/kpi_classificacao_risco_municipio.json\", \n",
    "                                          orient='records', \n",
    "                                          force_ascii=False\n",
    ")\n",
    "\n",
    "kpi_variacao_percent_semana_semana.to_json(\"C:/Users/ree11390/OneDrive - M DIAS BRANCO S.A. INDUSTRIA E COMERCIO DE ALIMENTOS/Área de Trabalho/TRABALHO FACULDADE/bases/kpi_variacao_percent_semana_semana.json\", \n",
    "                                           orient='records', \n",
    "                                           force_ascii=False\n",
    ")"
   ]
  }
 ],
 "metadata": {
  "kernelspec": {
   "display_name": "Python 3",
   "language": "python",
   "name": "python3"
  },
  "language_info": {
   "codemirror_mode": {
    "name": "ipython",
    "version": 3
   },
   "file_extension": ".py",
   "mimetype": "text/x-python",
   "name": "python",
   "nbconvert_exporter": "python",
   "pygments_lexer": "ipython3",
   "version": "3.11.9"
  }
 },
 "nbformat": 4,
 "nbformat_minor": 5
}
